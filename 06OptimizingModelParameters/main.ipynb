{
 "cells": [
  {
   "cell_type": "code",
   "execution_count": 1,
   "id": "19e846a6",
   "metadata": {},
   "outputs": [
    {
     "name": "stdout",
     "output_type": "stream",
     "text": [
      "Downloading http://fashion-mnist.s3-website.eu-central-1.amazonaws.com/train-images-idx3-ubyte.gz\n",
      "Downloading http://fashion-mnist.s3-website.eu-central-1.amazonaws.com/train-images-idx3-ubyte.gz to data/FashionMNIST/raw/train-images-idx3-ubyte.gz\n"
     ]
    },
    {
     "data": {
      "application/vnd.jupyter.widget-view+json": {
       "model_id": "2cc7df02e9bd4393a260c40d8857dcca",
       "version_major": 2,
       "version_minor": 0
      },
      "text/plain": [
       "  0%|          | 0/26421880 [00:00<?, ?it/s]"
      ]
     },
     "metadata": {},
     "output_type": "display_data"
    },
    {
     "name": "stdout",
     "output_type": "stream",
     "text": [
      "Extracting data/FashionMNIST/raw/train-images-idx3-ubyte.gz to data/FashionMNIST/raw\n",
      "\n",
      "Downloading http://fashion-mnist.s3-website.eu-central-1.amazonaws.com/train-labels-idx1-ubyte.gz\n",
      "Downloading http://fashion-mnist.s3-website.eu-central-1.amazonaws.com/train-labels-idx1-ubyte.gz to data/FashionMNIST/raw/train-labels-idx1-ubyte.gz\n"
     ]
    },
    {
     "data": {
      "application/vnd.jupyter.widget-view+json": {
       "model_id": "4b786ed1d5e349ef864d50bc1619b873",
       "version_major": 2,
       "version_minor": 0
      },
      "text/plain": [
       "  0%|          | 0/29515 [00:00<?, ?it/s]"
      ]
     },
     "metadata": {},
     "output_type": "display_data"
    },
    {
     "name": "stdout",
     "output_type": "stream",
     "text": [
      "Extracting data/FashionMNIST/raw/train-labels-idx1-ubyte.gz to data/FashionMNIST/raw\n",
      "\n",
      "Downloading http://fashion-mnist.s3-website.eu-central-1.amazonaws.com/t10k-images-idx3-ubyte.gz\n",
      "Downloading http://fashion-mnist.s3-website.eu-central-1.amazonaws.com/t10k-images-idx3-ubyte.gz to data/FashionMNIST/raw/t10k-images-idx3-ubyte.gz\n"
     ]
    },
    {
     "data": {
      "application/vnd.jupyter.widget-view+json": {
       "model_id": "00a331437dfb4477910381a6f7cebf15",
       "version_major": 2,
       "version_minor": 0
      },
      "text/plain": [
       "  0%|          | 0/4422102 [00:00<?, ?it/s]"
      ]
     },
     "metadata": {},
     "output_type": "display_data"
    },
    {
     "name": "stdout",
     "output_type": "stream",
     "text": [
      "Extracting data/FashionMNIST/raw/t10k-images-idx3-ubyte.gz to data/FashionMNIST/raw\n",
      "\n",
      "Downloading http://fashion-mnist.s3-website.eu-central-1.amazonaws.com/t10k-labels-idx1-ubyte.gz\n",
      "Downloading http://fashion-mnist.s3-website.eu-central-1.amazonaws.com/t10k-labels-idx1-ubyte.gz to data/FashionMNIST/raw/t10k-labels-idx1-ubyte.gz\n"
     ]
    },
    {
     "data": {
      "application/vnd.jupyter.widget-view+json": {
       "model_id": "3e6fade3dcde488cb40072aa7b2b7a98",
       "version_major": 2,
       "version_minor": 0
      },
      "text/plain": [
       "  0%|          | 0/5148 [00:00<?, ?it/s]"
      ]
     },
     "metadata": {},
     "output_type": "display_data"
    },
    {
     "name": "stdout",
     "output_type": "stream",
     "text": [
      "Extracting data/FashionMNIST/raw/t10k-labels-idx1-ubyte.gz to data/FashionMNIST/raw\n",
      "\n"
     ]
    }
   ],
   "source": [
    "import torch\n",
    "from torch import nn\n",
    "from torch.utils.data import DataLoader\n",
    "from torchvision import datasets\n",
    "from torchvision.transforms import ToTensor, Lambda\n",
    "\n",
    "training_data = datasets.FashionMNIST(\n",
    "    root=\"data\",\n",
    "    train=True,\n",
    "    download=True,\n",
    "    transform=ToTensor()\n",
    ")\n",
    "\n",
    "test_data = datasets.FashionMNIST(\n",
    "    root=\"data\",\n",
    "    train=False,\n",
    "    download=True,\n",
    "    transform=ToTensor()\n",
    ")\n",
    "\n",
    "train_dataloader = DataLoader(training_data, batch_size=64)\n",
    "test_dataloader = DataLoader(test_data, batch_size=64)\n",
    "\n",
    "class NeuralNetwork(nn.Module):\n",
    "    def __init__(self):\n",
    "        super(NeuralNetwork, self).__init__()\n",
    "        self.flatten = nn.Flatten()\n",
    "        self.linear_relu_stack = nn.Sequential(\n",
    "            nn.Linear(28*28, 512),\n",
    "            nn.ReLU(),\n",
    "            nn.Linear(512, 512),\n",
    "            nn.ReLU(),\n",
    "            nn.Linear(512, 10),\n",
    "        )\n",
    "        \n",
    "    def forward(self, x):\n",
    "        x = self.flatten(x)\n",
    "        logits = self.linear_relu_stack(x)\n",
    "        return logits\n",
    "    \n",
    "model = NeuralNetwork()"
   ]
  },
  {
   "cell_type": "code",
   "execution_count": 2,
   "id": "ce3f1e79",
   "metadata": {},
   "outputs": [],
   "source": [
    "learning_rate = 1e-3\n",
    "batch_size = 64\n",
    "epochs = 5"
   ]
  },
  {
   "cell_type": "code",
   "execution_count": 4,
   "id": "84400b76",
   "metadata": {},
   "outputs": [],
   "source": [
    "# Initialize the loss function\n",
    "loss_fn = nn.CrossEntropyLoss()"
   ]
  },
  {
   "cell_type": "code",
   "execution_count": 6,
   "id": "0383eea2",
   "metadata": {},
   "outputs": [],
   "source": [
    "optimizer = torch.optim.SGD(model.parameters(), lr=learning_rate)"
   ]
  },
  {
   "cell_type": "code",
   "execution_count": 7,
   "id": "1d99618b",
   "metadata": {},
   "outputs": [],
   "source": [
    "def train_loop(dataloader, model, loss_gn, optimizer):\n",
    "    size = len(dataloader.dataset)\n",
    "    for batch, (X, y) in enumerate(dataloader):\n",
    "        # Compute prediction and loss\n",
    "        pred = model(X)\n",
    "        loss = loss_fn(pred, y)\n",
    "        \n",
    "        # Backpropagation\n",
    "        optimizer.zero_grad()\n",
    "        loss.backward()\n",
    "        optimizer.step()\n",
    "        \n",
    "        if batch % 100 == 0:\n",
    "            loss, current = loss.item(), batch * len(X)\n",
    "            print(f\"loss: {loss:>7f}  [{current:>5d}/{size:>5d}]\")\n",
    "            \n",
    "def test_loop(dataloader, model, loss_fn):\n",
    "    size = len(dataloader.dataset)\n",
    "    num_batches = len(dataloader)\n",
    "    test_loss, correct = 0, 0\n",
    "    \n",
    "    with torch.no_grad():\n",
    "        for X, y in dataloader:\n",
    "            pred = model(X)\n",
    "            test_loss += loss_fn(pred, y).item()\n",
    "            correct += (pred.argmax(1) == y).type(torch.float).sum().item()\n",
    "            \n",
    "    test_loss /= num_batches\n",
    "    correct /= size\n",
    "    print(f\"Test Error: \\n Accuracy: {(100*correct):>0.1f}%, Avg loss: {test_loss:>8f} \\n\")"
   ]
  },
  {
   "cell_type": "code",
   "execution_count": null,
   "id": "f8b8d0b2",
   "metadata": {
    "scrolled": true
   },
   "outputs": [
    {
     "name": "stdout",
     "output_type": "stream",
     "text": [
      "Epoch 1\n",
      "--------------\n",
      "loss: 2.306535  [    0/60000]\n",
      "loss: 2.295329  [ 6400/60000]\n",
      "loss: 2.279274  [12800/60000]\n",
      "loss: 2.276388  [19200/60000]\n",
      "loss: 2.254933  [25600/60000]\n",
      "loss: 2.225841  [32000/60000]\n",
      "loss: 2.235369  [38400/60000]\n",
      "loss: 2.195815  [44800/60000]\n",
      "loss: 2.197271  [51200/60000]\n",
      "loss: 2.166539  [57600/60000]\n",
      "Test Error: \n",
      " Accuracy: 42.7%, Avg loss: 2.166881 \n",
      "\n",
      "Epoch 2\n",
      "--------------\n",
      "loss: 2.176548  [    0/60000]\n",
      "loss: 2.168268  [ 6400/60000]\n",
      "loss: 2.114869  [12800/60000]\n",
      "loss: 2.131489  [19200/60000]\n",
      "loss: 2.080032  [25600/60000]\n",
      "loss: 2.023718  [32000/60000]\n",
      "loss: 2.055935  [38400/60000]\n",
      "loss: 1.971945  [44800/60000]\n",
      "loss: 1.974859  [51200/60000]\n",
      "loss: 1.917170  [57600/60000]\n",
      "Test Error: \n",
      " Accuracy: 56.0%, Avg loss: 1.912423 \n",
      "\n",
      "Epoch 3\n",
      "--------------\n",
      "loss: 1.944318  [    0/60000]\n",
      "loss: 1.915202  [ 6400/60000]\n",
      "loss: 1.800111  [12800/60000]\n",
      "loss: 1.841093  [19200/60000]\n",
      "loss: 1.735565  [25600/60000]\n",
      "loss: 1.685017  [32000/60000]\n",
      "loss: 1.716863  [38400/60000]\n",
      "loss: 1.606241  [44800/60000]\n",
      "loss: 1.631380  [51200/60000]\n",
      "loss: 1.542867  [57600/60000]\n",
      "Test Error: \n",
      " Accuracy: 61.3%, Avg loss: 1.551259 \n",
      "\n",
      "Epoch 4\n",
      "--------------\n",
      "loss: 1.617938  [    0/60000]\n",
      "loss: 1.577255  [ 6400/60000]\n",
      "loss: 1.429376  [12800/60000]\n",
      "loss: 1.500160  [19200/60000]\n",
      "loss: 1.389758  [25600/60000]\n",
      "loss: 1.377491  [32000/60000]\n",
      "loss: 1.397536  [38400/60000]\n",
      "loss: 1.312685  [44800/60000]\n",
      "loss: 1.349581  [51200/60000]\n",
      "loss: 1.257674  [57600/60000]\n",
      "Test Error: \n",
      " Accuracy: 63.2%, Avg loss: 1.282042 \n",
      "\n",
      "Epoch 5\n",
      "--------------\n",
      "loss: 1.361991  [    0/60000]\n",
      "loss: 1.334589  [ 6400/60000]\n",
      "loss: 1.175040  [12800/60000]\n",
      "loss: 1.272785  [19200/60000]\n",
      "loss: 1.159948  [25600/60000]\n",
      "loss: 1.176577  [32000/60000]\n",
      "loss: 1.196515  [38400/60000]\n",
      "loss: 1.131292  [44800/60000]\n",
      "loss: 1.169581  [51200/60000]\n",
      "loss: 1.090841  [57600/60000]\n",
      "Test Error: \n",
      " Accuracy: 64.3%, Avg loss: 1.112640 \n",
      "\n",
      "Epoch 6\n",
      "--------------\n",
      "loss: 1.187533  [    0/60000]\n",
      "loss: 1.178792  [ 6400/60000]\n",
      "loss: 1.006343  [12800/60000]\n",
      "loss: 1.130056  [19200/60000]\n",
      "loss: 1.015949  [25600/60000]\n",
      "loss: 1.040715  [32000/60000]\n",
      "loss: 1.072323  [38400/60000]\n",
      "loss: 1.014422  [44800/60000]\n",
      "loss: 1.050525  [51200/60000]\n",
      "loss: 0.987072  [57600/60000]\n",
      "Test Error: \n",
      " Accuracy: 65.2%, Avg loss: 1.002181 \n",
      "\n",
      "Epoch 7\n",
      "--------------\n",
      "loss: 1.063813  [    0/60000]\n",
      "loss: 1.076618  [ 6400/60000]\n",
      "loss: 0.889134  [12800/60000]\n",
      "loss: 1.034797  [19200/60000]\n",
      "loss: 0.924629  [25600/60000]\n",
      "loss: 0.944027  [32000/60000]\n",
      "loss: 0.991409  [38400/60000]\n",
      "loss: 0.937017  [44800/60000]\n",
      "loss: 0.966965  [51200/60000]\n",
      "loss: 0.917645  [57600/60000]\n",
      "Test Error: \n",
      " Accuracy: 66.4%, Avg loss: 0.926188 \n",
      "\n",
      "Epoch 8\n",
      "--------------\n",
      "loss: 0.971707  [    0/60000]\n",
      "loss: 1.004996  [ 6400/60000]\n"
     ]
    }
   ],
   "source": [
    "loss_fn = nn.CrossEntropyLoss()\n",
    "optimizer = torch.optim.SGD(model.parameters(), lr=learning_rate)\n",
    "\n",
    "epochs = 10\n",
    "for t in range(epochs):\n",
    "    print(f\"Epoch {t+1}\\n--------------\")\n",
    "    train_loop(train_dataloader, model, loss_fn, optimizer)\n",
    "    test_loop(test_dataloader, model, loss_fn)\n",
    "print(\"Done!\")"
   ]
  },
  {
   "cell_type": "code",
   "execution_count": null,
   "id": "80377ad1",
   "metadata": {},
   "outputs": [],
   "source": []
  }
 ],
 "metadata": {
  "kernelspec": {
   "display_name": "Python 3 (ipykernel)",
   "language": "python",
   "name": "python3"
  },
  "language_info": {
   "codemirror_mode": {
    "name": "ipython",
    "version": 3
   },
   "file_extension": ".py",
   "mimetype": "text/x-python",
   "name": "python",
   "nbconvert_exporter": "python",
   "pygments_lexer": "ipython3",
   "version": "3.9.7"
  }
 },
 "nbformat": 4,
 "nbformat_minor": 5
}
